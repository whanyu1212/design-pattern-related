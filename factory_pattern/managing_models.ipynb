{
 "cells": [
  {
   "cell_type": "markdown",
   "metadata": {},
   "source": [
    "**Factory Pattern significantly simplies the management of different Machine Learning models**\n",
    "\n",
    "1. Centralized Creation Logic\n",
    "    - All the logic for creating different types of models is centralized in the `ModelFactory` class, making it easier to manage and update\n",
    "2. Extensibility\n",
    "    - Adding new types of models become straightforward\n",
    "        - Create a new concrete class that implements the `MLModel` interface.\n",
    "        - Update the factory method to include the new model type.\n",
    "3. Maintainability\n",
    "    - When the instantiation of a model changes, you only need to update the corresponding concrete class, leaving the rest of your code untouched. This reduces the risk of introducing bugs\n",
    "4. Readability and Clean Code\n",
    "    - Abstracting complex instantiation logic away from the client node\n",
    "    - Making the client node simpler and more readable, as it no longer needs to handle the specifics of the model creation\n",
    "5. Flexibility\n",
    "    - Allowing different models to be created based on runtime information (e.g., user input, configuration files)\n",
    "    - Making it easy to switch between different models without changing the client node.\n"
   ]
  },
  {
   "cell_type": "code",
   "execution_count": 9,
   "metadata": {},
   "outputs": [],
   "source": [
    "import pandas as pd\n",
    "import seaborn as sns\n",
    "from abc import ABC, abstractmethod  # abstract base class\n",
    "from sklearn.linear_model import LogisticRegression\n",
    "from sklearn.ensemble import RandomForestClassifier\n",
    "from sklearn.svm import SVC\n",
    "from sklearn.model_selection import train_test_split\n",
    "from sklearn.preprocessing import LabelEncoder"
   ]
  },
  {
   "cell_type": "code",
   "execution_count": 10,
   "metadata": {},
   "outputs": [],
   "source": [
    "titanic = sns.load_dataset('titanic')\n",
    "\n",
    "titanic.dropna(subset=['age', 'embarked', 'fare'], inplace=True)\n",
    "\n",
    "\n",
    "label_encoder = LabelEncoder()\n",
    "titanic['sex'] = label_encoder.fit_transform(titanic['sex'])\n",
    "titanic['embarked'] = label_encoder.fit_transform(titanic['embarked'])\n",
    "\n",
    "\n",
    "X = titanic[['pclass', 'sex', 'age', 'sibsp', 'parch', 'fare', 'embarked']]\n",
    "y = titanic['survived']\n",
    "\n",
    "\n",
    "X_train, X_test, y_train, y_test = train_test_split(X, y, test_size=0.3, random_state=42)"
   ]
  },
  {
   "cell_type": "code",
   "execution_count": 13,
   "metadata": {},
   "outputs": [],
   "source": [
    "# Model interface\n",
    "class MLModel(ABC):\n",
    "\n",
    "    @abstractmethod # must be implemented by the subclass\n",
    "    def train(self, X, y):\n",
    "        pass # placeholder, indicating that this method must be implemented by the subclass\n",
    "\n",
    "    @abstractmethod\n",
    "    def predict(self, X):\n",
    "        pass # placeholder, indicating that this method must be implemented by the subclass"
   ]
  },
  {
   "cell_type": "code",
   "execution_count": 14,
   "metadata": {},
   "outputs": [],
   "source": [
    "class LogisticRegressionModel(MLModel):\n",
    "\n",
    "    def __init__(self):\n",
    "        self.model = LogisticRegression()\n",
    "\n",
    "    def train(self, X, y):\n",
    "        self.model.fit(X, y)\n",
    "\n",
    "    def predict(self, X):\n",
    "        return self.model.predict(X)\n",
    "    \n",
    "    def get_coefficients(self):  # subclass is free to add more methods\n",
    "        return self.model.coef_\n",
    "    \n",
    "\n",
    "class RandomForestModel(MLModel):\n",
    "\n",
    "    def __init__(self):\n",
    "        self.model = RandomForestClassifier()\n",
    "\n",
    "    def train(self, X, y):\n",
    "        self.model.fit(X, y)\n",
    "\n",
    "    def predict(self, X):\n",
    "        return self.model.predict(X)\n",
    "    \n",
    "\n",
    "class SVMModel(MLModel):\n",
    "    \n",
    "        def __init__(self):\n",
    "            self.model = SVC()\n",
    "    \n",
    "        def train(self, X, y):\n",
    "            self.model.fit(X, y)\n",
    "    \n",
    "        def predict(self, X):\n",
    "            return self.model.predict(X)"
   ]
  },
  {
   "cell_type": "code",
   "execution_count": 6,
   "metadata": {},
   "outputs": [],
   "source": [
    "class ModelFactory:\n",
    "    @staticmethod\n",
    "    def create(model_type):\n",
    "        if model_type == 'logistic_regression':\n",
    "            return LogisticRegressionModel()\n",
    "        elif model_type == 'random_forest':\n",
    "            return RandomForestModel()\n",
    "        elif model_type == 'svm':\n",
    "            return SVMModel()\n",
    "        else:\n",
    "            raise ValueError('Invalid model type')"
   ]
  },
  {
   "cell_type": "code",
   "execution_count": 11,
   "metadata": {},
   "outputs": [],
   "source": [
    "model_type = 'logistic_regression'\n",
    "model = ModelFactory.create(model_type)\n",
    "model.train(X_train, y_train)\n",
    "y_pred = model.predict(X_test)"
   ]
  }
 ],
 "metadata": {
  "kernelspec": {
   "display_name": "design-pattern-related-ySQlefmX-py3.10",
   "language": "python",
   "name": "python3"
  },
  "language_info": {
   "codemirror_mode": {
    "name": "ipython",
    "version": 3
   },
   "file_extension": ".py",
   "mimetype": "text/x-python",
   "name": "python",
   "nbconvert_exporter": "python",
   "pygments_lexer": "ipython3",
   "version": "3.10.13"
  }
 },
 "nbformat": 4,
 "nbformat_minor": 2
}
